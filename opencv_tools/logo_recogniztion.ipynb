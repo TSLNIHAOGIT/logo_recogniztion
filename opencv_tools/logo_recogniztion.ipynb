{
 "cells": [
  {
   "cell_type": "code",
   "execution_count": 2,
   "metadata": {
    "collapsed": true
   },
   "outputs": [],
   "source": [
    "import cv2\n",
    "import numpy as np"
   ]
  },
  {
   "cell_type": "code",
   "execution_count": 3,
   "metadata": {},
   "outputs": [
    {
     "name": "stdout",
     "output_type": "stream",
     "text": [
      "F:\\陶士来文件\\tsl_python_project\\logo_recogniztion\n"
     ]
    }
   ],
   "source": [
    "import os\n",
    "print(os.path.abspath('.'))\n",
    "# rootpath=os.path.abspath(os.path.join(os.path.dirname('__file__'),'../../logo_recogniztion/opencv_tools/traffic_test4.jpg'))\n",
    "path='./opencv_tools/traffic_test4.jpg'"
   ]
  },
  {
   "cell_type": "code",
   "execution_count": null,
   "metadata": {},
   "outputs": [
    {
     "name": "stdout",
     "output_type": "stream",
     "text": [
      "img: <class 'numpy.ndarray'> (423, 500, 3) uint8\n"
     ]
    }
   ],
   "source": [
    "#加载原图\n",
    "img=cv2.imread(path)\n",
    "print('img:',type(img),img.shape,img.dtype)\n",
    "\n",
    "cv2.namedWindow('image',0)#O表示显示窗口可以随意手动调节，1\n",
    "cv2.imshow('image',img)\n",
    "cv2.waitKey()\n",
    "cv2.destroyAllWindows()"
   ]
  },
  {
   "cell_type": "code",
   "execution_count": null,
   "metadata": {},
   "outputs": [],
   "source": []
  }
 ],
 "metadata": {
  "kernelspec": {
   "display_name": "Python 2",
   "language": "python",
   "name": "python2"
  },
  "language_info": {
   "codemirror_mode": {
    "name": "ipython",
    "version": 2
   },
   "file_extension": ".py",
   "mimetype": "text/x-python",
   "name": "python",
   "nbconvert_exporter": "python",
   "pygments_lexer": "ipython2",
   "version": "2.7.6"
  }
 },
 "nbformat": 4,
 "nbformat_minor": 0
}
